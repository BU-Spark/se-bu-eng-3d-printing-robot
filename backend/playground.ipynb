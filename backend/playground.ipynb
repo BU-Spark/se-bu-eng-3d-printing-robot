{
 "cells": [
  {
   "cell_type": "code",
   "execution_count": 1,
   "metadata": {},
   "outputs": [
    {
     "name": "stdout",
     "output_type": "stream",
     "text": [
      "Requirement already satisfied: gcs-shape in /Users/alanlin/Desktop/se-bu-eng-3d-printing-robot copy/venv/lib/python3.12/site-packages (1.3.0)\n",
      "Requirement already satisfied: bentley-ottmann==7.3.0 in /Users/alanlin/Desktop/se-bu-eng-3d-printing-robot copy/venv/lib/python3.12/site-packages (from gcs-shape) (7.3.0)\n",
      "Requirement already satisfied: mapbox-earcut>=1.0.0 in /Users/alanlin/Desktop/se-bu-eng-3d-printing-robot copy/venv/lib/python3.12/site-packages (from gcs-shape) (1.0.3)\n",
      "Requirement already satisfied: numpy>=1.21.5 in /Users/alanlin/Desktop/se-bu-eng-3d-printing-robot copy/venv/lib/python3.12/site-packages (from gcs-shape) (2.2.3)\n",
      "Requirement already satisfied: numpy-stl>=2.17.1 in /Users/alanlin/Desktop/se-bu-eng-3d-printing-robot copy/venv/lib/python3.12/site-packages (from gcs-shape) (3.2.0)\n",
      "Requirement already satisfied: pandas>=1.4.1 in /Users/alanlin/Desktop/se-bu-eng-3d-printing-robot copy/venv/lib/python3.12/site-packages (from gcs-shape) (2.2.3)\n",
      "Requirement already satisfied: scipy>=1.7.3 in /Users/alanlin/Desktop/se-bu-eng-3d-printing-robot copy/venv/lib/python3.12/site-packages (from gcs-shape) (1.15.2)\n",
      "Requirement already satisfied: dendroid<2.0,>=1.4.0 in /Users/alanlin/Desktop/se-bu-eng-3d-printing-robot copy/venv/lib/python3.12/site-packages (from bentley-ottmann==7.3.0->gcs-shape) (1.6.1)\n",
      "Requirement already satisfied: ground<9.0,>=8.2.0 in /Users/alanlin/Desktop/se-bu-eng-3d-printing-robot copy/venv/lib/python3.12/site-packages (from bentley-ottmann==7.3.0->gcs-shape) (8.3.0)\n",
      "Requirement already satisfied: prioq<1.0,>=0.5.0 in /Users/alanlin/Desktop/se-bu-eng-3d-printing-robot copy/venv/lib/python3.12/site-packages (from bentley-ottmann==7.3.0->gcs-shape) (0.6.0)\n",
      "Requirement already satisfied: reprit<1.0,>=0.8.0 in /Users/alanlin/Desktop/se-bu-eng-3d-printing-robot copy/venv/lib/python3.12/site-packages (from bentley-ottmann==7.3.0->gcs-shape) (0.9.0)\n",
      "Requirement already satisfied: python-utils>=3.4.5 in /Users/alanlin/Desktop/se-bu-eng-3d-printing-robot copy/venv/lib/python3.12/site-packages (from numpy-stl>=2.17.1->gcs-shape) (3.9.1)\n",
      "Requirement already satisfied: python-dateutil>=2.8.2 in /Users/alanlin/Desktop/se-bu-eng-3d-printing-robot copy/venv/lib/python3.12/site-packages (from pandas>=1.4.1->gcs-shape) (2.9.0.post0)\n",
      "Requirement already satisfied: pytz>=2020.1 in /Users/alanlin/Desktop/se-bu-eng-3d-printing-robot copy/venv/lib/python3.12/site-packages (from pandas>=1.4.1->gcs-shape) (2025.1)\n",
      "Requirement already satisfied: tzdata>=2022.7 in /Users/alanlin/Desktop/se-bu-eng-3d-printing-robot copy/venv/lib/python3.12/site-packages (from pandas>=1.4.1->gcs-shape) (2025.1)\n",
      "Requirement already satisfied: typing-extensions<5.0,>=4.5.0 in /Users/alanlin/Desktop/se-bu-eng-3d-printing-robot copy/venv/lib/python3.12/site-packages (from dendroid<2.0,>=1.4.0->bentley-ottmann==7.3.0->gcs-shape) (4.12.2)\n",
      "Requirement already satisfied: cfractions<3.0,>=2.2.0 in /Users/alanlin/Desktop/se-bu-eng-3d-printing-robot copy/venv/lib/python3.12/site-packages (from ground<9.0,>=8.2.0->bentley-ottmann==7.3.0->gcs-shape) (2.4.0)\n",
      "Requirement already satisfied: shewchuk<7.0,>=6.5.0 in /Users/alanlin/Desktop/se-bu-eng-3d-printing-robot copy/venv/lib/python3.12/site-packages (from ground<9.0,>=8.2.0->bentley-ottmann==7.3.0->gcs-shape) (6.10.0)\n",
      "Requirement already satisfied: symba<2.0,>=1.2.1 in /Users/alanlin/Desktop/se-bu-eng-3d-printing-robot copy/venv/lib/python3.12/site-packages (from ground<9.0,>=8.2.0->bentley-ottmann==7.3.0->gcs-shape) (1.2.1)\n",
      "Requirement already satisfied: six>=1.5 in /Users/alanlin/Desktop/se-bu-eng-3d-printing-robot copy/venv/lib/python3.12/site-packages (from python-dateutil>=2.8.2->pandas>=1.4.1->gcs-shape) (1.17.0)\n",
      "Note: you may need to restart the kernel to use updated packages.\n"
     ]
    }
   ],
   "source": [
    "pip install gcs-shape"
   ]
  },
  {
   "cell_type": "code",
   "execution_count": 2,
   "metadata": {},
   "outputs": [
    {
     "name": "stdout",
     "output_type": "stream",
     "text": [
      "False\n"
     ]
    }
   ],
   "source": [
    "import gcs\n",
    "\n",
    "# Create a generalized cylindrical shell\n",
    "shape = gcs.GCS(c4_base=0.89,\n",
    "                c8_base=0,\n",
    "                c4_top=1,\n",
    "                c8_top=0,\n",
    "                twist_linear=3.14,\n",
    "                twist_amplitude=0,\n",
    "                twist_cycles=0,\n",
    "                perimeter_ratio=2,\n",
    "                height=20,\n",
    "                mass=3,\n",
    "                thickness=0.7)\n",
    "\n",
    "# Assert the shape is valid\n",
    "print(shape.valid)\n",
    "\n",
    "# Save shape to STL file\n",
    "#gcs.io.save_mesh(file='shape.stl', shape=shape)"
   ]
  }
 ],
 "metadata": {
  "kernelspec": {
   "display_name": "venv",
   "language": "python",
   "name": "python3"
  },
  "language_info": {
   "codemirror_mode": {
    "name": "ipython",
    "version": 3
   },
   "file_extension": ".py",
   "mimetype": "text/x-python",
   "name": "python",
   "nbconvert_exporter": "python",
   "pygments_lexer": "ipython3",
   "version": "3.12.6"
  }
 },
 "nbformat": 4,
 "nbformat_minor": 2
}
